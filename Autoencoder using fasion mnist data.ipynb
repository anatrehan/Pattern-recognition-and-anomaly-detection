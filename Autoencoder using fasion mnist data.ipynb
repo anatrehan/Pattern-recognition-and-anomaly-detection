{
  "cells": [
    {
      "cell_type": "code",
      "execution_count": null,
      "metadata": {
        "id": "S2KQf6U36W5z"
      },
      "outputs": [],
      "source": [
        "import numpy as np\n",
        "import tensorflow as tf\n",
        "from tensorflow.keras.layers import Input, Dense\n",
        "from tensorflow.keras.models import Model\n",
        "import matplotlib.pyplot as plt"
      ]
    },
    {
      "cell_type": "markdown",
      "metadata": {
        "id": "NxJFZCpp6W51"
      },
      "source": [
        "Define the autoencoder model"
      ]
    },
    {
      "cell_type": "code",
      "execution_count": null,
      "metadata": {
        "id": "tEo_YDZO6W52"
      },
      "outputs": [],
      "source": [
        "def autoencoder(input_dim, encoding_dim):\n",
        "    # Encoder\n",
        "    input_layer = Input(shape=(input_dim,))\n",
        "    encoded = Dense(encoding_dim, activation='relu')(input_layer)#non linearity\n",
        "\n",
        "    # Decoder\n",
        "    decoded = Dense(input_dim, activation='sigmoid')(encoded)\n",
        "\n",
        "    # Autoencoder\n",
        "    autoencoder = Model(input_layer, decoded)\n",
        "\n",
        "    # Separate encoder model\n",
        "    encoder = Model(input_layer, encoded)\n",
        "\n",
        "    # Separate decoder model\n",
        "    encoded_input = Input(shape=(encoding_dim,))\n",
        "    decoder_layer = autoencoder.layers[-1]\n",
        "    decoder = Model(encoded_input, decoder_layer(encoded_input))\n",
        "    return autoencoder, encoder, decoder"
      ]
    },
    {
      "cell_type": "markdown",
      "metadata": {
        "id": "Vu0dKsLW6W52"
      },
      "source": [
        "Load Fashion MNIST dataset"
      ]
    },
    {
      "cell_type": "code",
      "execution_count": null,
      "metadata": {
        "colab": {
          "base_uri": "https://localhost:8080/"
        },
        "id": "Ymcd9KvX6W53",
        "outputId": "33edf883-055f-455d-e4e6-9365b7507ead"
      },
      "outputs": [
        {
          "output_type": "stream",
          "name": "stdout",
          "text": [
            "Downloading data from https://storage.googleapis.com/tensorflow/tf-keras-datasets/train-labels-idx1-ubyte.gz\n",
            "29515/29515 [==============================] - 0s 0us/step\n",
            "Downloading data from https://storage.googleapis.com/tensorflow/tf-keras-datasets/train-images-idx3-ubyte.gz\n",
            "26421880/26421880 [==============================] - 0s 0us/step\n",
            "Downloading data from https://storage.googleapis.com/tensorflow/tf-keras-datasets/t10k-labels-idx1-ubyte.gz\n",
            "5148/5148 [==============================] - 0s 0us/step\n",
            "Downloading data from https://storage.googleapis.com/tensorflow/tf-keras-datasets/t10k-images-idx3-ubyte.gz\n",
            "4422102/4422102 [==============================] - 0s 0us/step\n"
          ]
        }
      ],
      "source": [
        "(x_train, _), (x_test, _) = tf.keras.datasets.fashion_mnist.load_data()#training labels\n",
        "x_train = x_train.astype('float32') / 255.\n",
        "x_test = x_test.astype('float32') / 255.#normalizes\n",
        "x_train = x_train.reshape((len(x_train), np.prod(x_train.shape[1:])))#flattens the image\n",
        "x_test = x_test.reshape((len(x_test), np.prod(x_test.shape[1:])))"
      ]
    },
    {
      "cell_type": "markdown",
      "metadata": {
        "id": "5bpXyQw96W53"
      },
      "source": [
        "Set parameters"
      ]
    },
    {
      "cell_type": "code",
      "execution_count": null,
      "metadata": {
        "id": "d__Rzpyo6W53"
      },
      "outputs": [],
      "source": [
        "input_dim = 784  # Fashion MNIST dataset size 28x28\n",
        "encoding_dim = 32  # Size of the compressed representation"
      ]
    },
    {
      "cell_type": "markdown",
      "metadata": {
        "id": "fg0e_6wO6W54"
      },
      "source": [
        "Create autoencoder model"
      ]
    },
    {
      "cell_type": "code",
      "execution_count": null,
      "metadata": {
        "id": "QUdDSX7E6W54"
      },
      "outputs": [],
      "source": [
        "autoencoder_model, encoder_model, decoder_model = autoencoder(input_dim, encoding_dim)"
      ]
    },
    {
      "cell_type": "markdown",
      "metadata": {
        "id": "XpCeEWes6W55"
      },
      "source": [
        "Compile model"
      ]
    },
    {
      "cell_type": "code",
      "execution_count": null,
      "metadata": {
        "id": "EiPWLICn6W55"
      },
      "outputs": [],
      "source": [
        "autoencoder_model.compile(optimizer='adam', loss='binary_crossentropy')"
      ]
    },
    {
      "cell_type": "markdown",
      "metadata": {
        "id": "rTlM94I56W55"
      },
      "source": [
        "Train the autoencoder"
      ]
    },
    {
      "cell_type": "code",
      "execution_count": null,
      "metadata": {
        "colab": {
          "base_uri": "https://localhost:8080/"
        },
        "id": "Pc9UcEIv6W55",
        "outputId": "7b8594c2-1074-417c-a741-fa83e923f80d"
      },
      "outputs": [
        {
          "output_type": "stream",
          "name": "stdout",
          "text": [
            "Epoch 1/20\n",
            "235/235 [==============================] - 4s 12ms/step - loss: 0.4134 - val_loss: 0.3405\n",
            "Epoch 2/20\n",
            "235/235 [==============================] - 3s 13ms/step - loss: 0.3259 - val_loss: 0.3182\n",
            "Epoch 3/20\n",
            "235/235 [==============================] - 4s 16ms/step - loss: 0.3107 - val_loss: 0.3075\n",
            "Epoch 4/20\n",
            "235/235 [==============================] - 3s 15ms/step - loss: 0.3015 - val_loss: 0.3000\n",
            "Epoch 5/20\n",
            "235/235 [==============================] - 3s 12ms/step - loss: 0.2947 - val_loss: 0.2945\n",
            "Epoch 6/20\n",
            "235/235 [==============================] - 3s 12ms/step - loss: 0.2908 - val_loss: 0.2917\n",
            "Epoch 7/20\n",
            "235/235 [==============================] - 3s 14ms/step - loss: 0.2886 - val_loss: 0.2899\n",
            "Epoch 8/20\n",
            "235/235 [==============================] - 3s 14ms/step - loss: 0.2872 - val_loss: 0.2893\n",
            "Epoch 9/20\n",
            "235/235 [==============================] - 3s 13ms/step - loss: 0.2862 - val_loss: 0.2880\n",
            "Epoch 10/20\n",
            "235/235 [==============================] - 3s 12ms/step - loss: 0.2855 - val_loss: 0.2874\n",
            "Epoch 11/20\n",
            "235/235 [==============================] - 3s 14ms/step - loss: 0.2850 - val_loss: 0.2870\n",
            "Epoch 12/20\n",
            "235/235 [==============================] - 4s 15ms/step - loss: 0.2845 - val_loss: 0.2866\n",
            "Epoch 13/20\n",
            "235/235 [==============================] - 3s 12ms/step - loss: 0.2842 - val_loss: 0.2864\n",
            "Epoch 14/20\n",
            "235/235 [==============================] - 3s 13ms/step - loss: 0.2839 - val_loss: 0.2861\n",
            "Epoch 15/20\n",
            "235/235 [==============================] - 3s 14ms/step - loss: 0.2837 - val_loss: 0.2858\n",
            "Epoch 16/20\n",
            "235/235 [==============================] - 4s 17ms/step - loss: 0.2834 - val_loss: 0.2856\n",
            "Epoch 17/20\n",
            "235/235 [==============================] - 3s 14ms/step - loss: 0.2833 - val_loss: 0.2855\n",
            "Epoch 18/20\n",
            "235/235 [==============================] - 3s 12ms/step - loss: 0.2831 - val_loss: 0.2854\n",
            "Epoch 19/20\n",
            "235/235 [==============================] - 3s 12ms/step - loss: 0.2830 - val_loss: 0.2852\n",
            "Epoch 20/20\n",
            "235/235 [==============================] - 4s 16ms/step - loss: 0.2828 - val_loss: 0.2851\n"
          ]
        },
        {
          "output_type": "execute_result",
          "data": {
            "text/plain": [
              "<keras.src.callbacks.History at 0x78ad9505a0e0>"
            ]
          },
          "metadata": {},
          "execution_count": 7
        }
      ],
      "source": [
        "autoencoder_model.fit(x_train, x_train,\n",
        "                      epochs=20,\n",
        "                      batch_size=256,\n",
        "                      shuffle=True,\n",
        "                      validation_data=(x_test, x_test))"
      ]
    },
    {
      "cell_type": "markdown",
      "metadata": {
        "id": "OF3adsty6W55"
      },
      "source": [
        "Save trained models"
      ]
    },
    {
      "cell_type": "code",
      "execution_count": null,
      "metadata": {
        "colab": {
          "base_uri": "https://localhost:8080/"
        },
        "id": "hDIBdWHR6W56",
        "outputId": "1c9dca9b-2d70-424f-a657-a761326e5640"
      },
      "outputs": [
        {
          "output_type": "stream",
          "name": "stderr",
          "text": [
            "/usr/local/lib/python3.10/dist-packages/keras/src/engine/training.py:3103: UserWarning: You are saving your model as an HDF5 file via `model.save()`. This file format is considered legacy. We recommend using instead the native Keras format, e.g. `model.save('my_model.keras')`.\n",
            "  saving_api.save_model(\n",
            "WARNING:tensorflow:Compiled the loaded model, but the compiled metrics have yet to be built. `model.compile_metrics` will be empty until you train or evaluate the model.\n",
            "WARNING:tensorflow:Compiled the loaded model, but the compiled metrics have yet to be built. `model.compile_metrics` will be empty until you train or evaluate the model.\n"
          ]
        }
      ],
      "source": [
        "autoencoder_model.save('autoencoder_model.h5')\n",
        "encoder_model.save('encoder_model.h5')\n",
        "decoder_model.save('decoder_model.h5')"
      ]
    },
    {
      "cell_type": "markdown",
      "metadata": {
        "id": "kK1DAInz6W56"
      },
      "source": [
        "Load trained models"
      ]
    },
    {
      "cell_type": "code",
      "execution_count": null,
      "metadata": {
        "colab": {
          "base_uri": "https://localhost:8080/"
        },
        "id": "YlkVBaoz6W56",
        "outputId": "a53fc670-2b6d-4b18-ea0c-1d81e6aff518"
      },
      "outputs": [
        {
          "output_type": "stream",
          "name": "stderr",
          "text": [
            "WARNING:tensorflow:No training configuration found in the save file, so the model was *not* compiled. Compile it manually.\n",
            "WARNING:tensorflow:No training configuration found in the save file, so the model was *not* compiled. Compile it manually.\n"
          ]
        }
      ],
      "source": [
        "autoencoder_model = tf.keras.models.load_model('autoencoder_model.h5')\n",
        "encoder_model = tf.keras.models.load_model('encoder_model.h5')\n",
        "decoder_model = tf.keras.models.load_model('decoder_model.h5')"
      ]
    },
    {
      "cell_type": "markdown",
      "metadata": {
        "id": "hGDoG_pI6W56"
      },
      "source": [
        "Encode and decode some images"
      ]
    },
    {
      "cell_type": "code",
      "execution_count": null,
      "metadata": {
        "colab": {
          "base_uri": "https://localhost:8080/"
        },
        "id": "4eDvtJqu6W56",
        "outputId": "bd1ec1d9-9d2f-4e32-87f6-2c9b24cd5209"
      },
      "outputs": [
        {
          "output_type": "stream",
          "name": "stdout",
          "text": [
            "313/313 [==============================] - 1s 2ms/step\n",
            "313/313 [==============================] - 1s 2ms/step\n"
          ]
        }
      ],
      "source": [
        "encoded_imgs = encoder_model.predict(x_test)\n",
        "decoded_imgs = decoder_model.predict(encoded_imgs)"
      ]
    },
    {
      "cell_type": "markdown",
      "metadata": {
        "id": "YFVqG6uB6W56"
      },
      "source": [
        "Visualize original vs reconstructed images"
      ]
    },
    {
      "cell_type": "code",
      "execution_count": null,
      "metadata": {
        "colab": {
          "base_uri": "https://localhost:8080/",
          "height": 285
        },
        "id": "a9f4QbL06W56",
        "outputId": "866cf91e-ee85-427b-bdf9-8a8820d98731"
      },
      "outputs": [
        {
          "output_type": "display_data",
          "data": {
            "text/plain": [
              "<Figure size 2000x400 with 20 Axes>"
            ],
            "image/png": "[encoded data removed]"
          },
          "metadata": {}
        }
      ],
      "source": [
        "n = 10  # Number of images to display\n",
        "plt.figure(figsize=(20, 4))\n",
        "for i in range(n):\n",
        "    # Original images\n",
        "    ax = plt.subplot(2, n, i + 1)#number of rows nd column\n",
        "    plt.imshow(x_test[i].reshape(28, 28))\n",
        "    plt.gray()\n",
        "    ax.get_xaxis().set_visible(False)\n",
        "    ax.get_yaxis().set_visible(False)\n",
        "\n",
        "    # Reconstructed images\n",
        "    ax = plt.subplot(2, n, i + 1 + n)\n",
        "    plt.imshow(decoded_imgs[i].reshape(28, 28))\n",
        "    plt.gray()\n",
        "    ax.get_xaxis().set_visible(False)\n",
        "    ax.get_yaxis().set_visible(False)\n",
        "plt.show()"
      ]
    },
    {
      "cell_type": "markdown",
      "metadata": {
        "id": "BL0mznbg6W56"
      },
      "source": [
        "Function to compress and decompress an image"
      ]
    },
    {
      "cell_type": "code",
      "execution_count": null,
      "metadata": {
        "id": "QEMJoDki6W56"
      },
      "outputs": [],
      "source": [
        "def compress_and_decompress(image):\n",
        "    # Normalize image\n",
        "    image = image.astype('float32') / 255.\n",
        "    # Reshape image to match model input shape\n",
        "    image = np.reshape(image, (1, -1))#new shape\n",
        "    # Encode image\n",
        "    encoded_image = encoder_model.predict(image)\n",
        "    # Decode image\n",
        "    decoded_image = decoder_model.predict(encoded_image)\n",
        "    # Reshape decoded image to original shape\n",
        "    decoded_image = np.reshape(decoded_image, (28, 28))\n",
        "    return decoded_image"
      ]
    },
    {
      "cell_type": "markdown",
      "metadata": {
        "id": "aEI1A5I_6W57"
      },
      "source": [
        "Example usage of compress_and_decompress function"
      ]
    },
    {
      "cell_type": "code",
      "execution_count": null,
      "metadata": {
        "colab": {
          "base_uri": "https://localhost:8080/"
        },
        "id": "RxusaO-w6W57",
        "outputId": "95559e63-582d-4f99-a29e-d90fc25a3b35"
      },
      "outputs": [
        {
          "output_type": "stream",
          "name": "stdout",
          "text": [
            "1/1 [==============================] - 0s 24ms/step\n",
            "1/1 [==============================] - 0s 21ms/step\n"
          ]
        }
      ],
      "source": [
        "sample_image = x_test[0]\n",
        "reconstructed_image = compress_and_decompress(sample_image)"
      ]
    },
    {
      "cell_type": "markdown",
      "metadata": {
        "id": "jSpmGQ5S6W57"
      },
      "source": [
        "Visualize original and reconstructed image"
      ]
    },
    {
      "cell_type": "code",
      "execution_count": null,
      "metadata": {
        "colab": {
          "base_uri": "https://localhost:8080/",
          "height": 270
        },
        "id": "gjRWnTTX6W57",
        "outputId": "c686100d-8efb-4bbf-f456-c0139b9586b2"
      },
      "outputs": [
        {
          "output_type": "display_data",
          "data": {
            "text/plain": [
              "<Figure size 600x300 with 2 Axes>"
            ],
            "image/png": "[encoded data removed]"
          },
          "metadata": {}
        }
      ],
      "source": [
        "plt.figure(figsize=(6, 3))\n",
        "plt.subplot(1, 2, 1)#rows column position of the subplot\n",
        "plt.title('Original Image')\n",
        "plt.imshow(sample_image.reshape(28, 28), cmap='gray')\n",
        "plt.axis('off')\n",
        "plt.subplot(1, 2, 2)\n",
        "plt.title('Reconstructed Image')\n",
        "plt.imshow(reconstructed_image, cmap='gray')\n",
        "plt.axis('off')\n",
        "plt.show()"
      ]
    }
  ],
  "metadata": {
    "kernelspec": {
      "display_name": "Python 3",
      "language": "python",
      "name": "python3"
    },
    "language_info": {
      "codemirror_mode": {
        "name": "ipython",
        "version": 3
      },
      "file_extension": ".py",
      "mimetype": "text/x-python",
      "name": "python",
      "nbconvert_exporter": "python",
      "pygments_lexer": "ipython3",
      "version": "3.6.4"
    },
    "colab": {
      "provenance": []
    }
  },
  "nbformat": 4,
  "nbformat_minor": 0
}